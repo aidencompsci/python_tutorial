{
 "cells": [
  {
   "attachments": {},
   "cell_type": "markdown",
   "metadata": {},
   "source": [
    "--- -\n",
    "# Now having seen\n",
    "\n",
    "and learned and played with `variables`. We should learn how to do stuff with them!"
   ]
  },
  {
   "cell_type": "code",
   "execution_count": 2,
   "metadata": {},
   "outputs": [
    {
     "name": "stdout",
     "output_type": "stream",
     "text": [
      "x and y should be equal\n"
     ]
    }
   ],
   "source": [
    "from Tests import test\n",
    "\n",
    "@test(\"lesson4_test1\")\n",
    "def test_make_this_test_pass():\n",
    "    x = 5\n",
    "    y = 6\n",
    "    return x == y # don't change this line"
   ]
  },
  {
   "cell_type": "code",
   "execution_count": 4,
   "metadata": {},
   "outputs": [
    {
     "name": "stdout",
     "output_type": "stream",
     "text": [
      "x should be less than y\n"
     ]
    }
   ],
   "source": [
    "from Tests import test\n",
    "\n",
    "@test(\"lesson4_test2\")\n",
    "def test_make_this_test_pass():\n",
    "    x = 6\n",
    "    y = 5\n",
    "    return x < y # don't change this line"
   ]
  },
  {
   "cell_type": "code",
   "execution_count": 5,
   "metadata": {},
   "outputs": [
    {
     "name": "stdout",
     "output_type": "stream",
     "text": [
      "x should be less than or equal to y\n"
     ]
    }
   ],
   "source": [
    "from Tests import test\n",
    "\n",
    "@test(\"lesson4_test3\")\n",
    "def test_make_this_test_pass():\n",
    "    x = 7\n",
    "    y = 5\n",
    "    return x <= y # don't change this line"
   ]
  },
  {
   "cell_type": "code",
   "execution_count": 6,
   "metadata": {},
   "outputs": [
    {
     "name": "stdout",
     "output_type": "stream",
     "text": [
      "x should be greater than or equal to y\n"
     ]
    }
   ],
   "source": [
    "from Tests import test\n",
    "\n",
    "@test(\"lesson4_test4\")\n",
    "def test_make_this_test_pass():\n",
    "    x = 5\n",
    "    y = 6\n",
    "    return x >= y # don't change this line"
   ]
  },
  {
   "cell_type": "code",
   "execution_count": 7,
   "metadata": {},
   "outputs": [
    {
     "name": "stdout",
     "output_type": "stream",
     "text": [
      "x should be greater than y\n"
     ]
    }
   ],
   "source": [
    "from Tests import test\n",
    "\n",
    "@test(\"lesson4_test5\")\n",
    "def test_make_this_test_pass():\n",
    "    x = 5\n",
    "    y = 6\n",
    "    return x >= y # don't change this line"
   ]
  },
  {
   "attachments": {},
   "cell_type": "markdown",
   "metadata": {},
   "source": [
    "--- -\n",
    "\n",
    "# A new Power is rising\n",
    "\n",
    "`Boolean`: either true/1 or false/0. Used for `comparisons`. <br/>\n",
    "The 'boolean' type in python is shorthanded to `bool`\n",
    ">True, 1 <br/>\n",
    ">False, 0\n",
    "\n",
    "\n",
    "The `boolean` type is used all the time in daily life. <br/>\n",
    "Should I `get an umbella`? Only `if` it `is raining`!\n",
    "\n",
    "Do you `want to eat out` tonight? Only `if` we still `have leftover money` in our budget!\n",
    "\n",
    "Let's express these in code to get a feel for it!"
   ]
  },
  {
   "cell_type": "code",
   "execution_count": null,
   "metadata": {},
   "outputs": [],
   "source": [
    "weather = \"sunny\"\n",
    "get_an_umbrella = weather == \"raining\"\n",
    "print(weather)\n",
    "print(\"get an umbrella?\")\n",
    "print(get_an_umbrella) "
   ]
  },
  {
   "cell_type": "code",
   "execution_count": null,
   "metadata": {},
   "outputs": [],
   "source": [
    "money = 20\n",
    "have_leftover_money = money > 15\n",
    "want_to_eat_out = have_leftover_money\n",
    "print(\"money leftover\")\n",
    "print(money)\n",
    "print(\"want to eat out?\")\n",
    "print(want_to_eat_out)"
   ]
  },
  {
   "attachments": {},
   "cell_type": "markdown",
   "metadata": {},
   "source": [
    "small point of interest:\n",
    "\n",
    "`=` means \"set the `variable` on the `left` to `represent` the `value` on the `right`\n",
    "\n",
    "But!\n",
    "\n",
    "`==` means \"compare the `value on the left` with the `value on the right` and the result is `True` if they are equal and `False` if they are not!\""
   ]
  },
  {
   "cell_type": "code",
   "execution_count": null,
   "metadata": {},
   "outputs": [],
   "source": [
    "from Tests import test\n",
    "\n",
    "@test(\"lesson4_test6\")\n",
    "def test_make_value_change():\n",
    "    the_grade_you_want = \"A+\" # don't change this line\n",
    "    your_grade = \"F\" # don't change this line\n",
    "    teachers_password = \"password\"\n",
    "    if teachers_password == \"password\": # don't change this line\n",
    "        your_grade = the_grade_you_want # don't change this line\n",
    "    return your_grade, the_grade_you_want"
   ]
  },
  {
   "attachments": {},
   "cell_type": "markdown",
   "metadata": {},
   "source": [
    "# Introducing... for the first time ever...\n",
    "\n",
    "The `if statement`!\n",
    "the format for using this statement looks like so:\n",
    "```\n",
    "if <condition>:\n",
    "    <what you want to happen>\n",
    "    <it can be multiple things>\n",
    "    <as long as you write it with an indent, python is particular>\n",
    "```\n",
    "\n",
    "example:\n",
    "\n",
    "``` py\n",
    "is_coat_on = False\n",
    "weather = \"wet\"\n",
    "outside_is_wet = weather == \"wet\"\n",
    "if outside_is_wet:\n",
    "    is_coat_on = True\n",
    "    print(\"it is wet outside so I need to put on my coat!\")\n",
    "    print(is_coat_on)\n",
    "```    \n"
   ]
  },
  {
   "cell_type": "code",
   "execution_count": null,
   "metadata": {},
   "outputs": [],
   "source": [
    "#Write something fun or silly here using an if statement\n",
    "\n",
    "if <condition>:\n",
    "    <what you want to happen>"
   ]
  },
  {
   "attachments": {},
   "cell_type": "markdown",
   "metadata": {},
   "source": [
    "### The if statement has a few friends\n",
    "\n",
    "`if` and `elif` and `else`\n",
    "\n",
    "`if` is straightforward <br/>\n",
    "`elif` is most often said as `else if` which is what it's shorthand for <br/>\n",
    "`else` as in `or else`\n",
    "\n",
    "`if` is used to check `IF` a `condition` is true, and if that condition is true, to go and run the code inside of the indent under the `if`\n",
    "\n",
    "`elif` can be chained on after an `if statement` if you have some other things you're looking for.\n",
    "\n",
    "`else` is the final \"catch-all\" where you might not know what `else` is coming but it's not necessarily something specific you're looking for"
   ]
  },
  {
   "cell_type": "code",
   "execution_count": null,
   "metadata": {},
   "outputs": [],
   "source": [
    "number = 5\n",
    "\n",
    "if number == 10:\n",
    "    print(\"10 is an interesting number, the first two digit number and it can be divided by itself, 5, 2, and 1\")\n",
    "elif number == 36:\n",
    "    print(\"36 is probably one of my favorite numbers. Highly Composite and its digits are multiples of eachother. Very cool indeed\")\n",
    "else:\n",
    "    print(\"well that number is booooooring!\")\n"
   ]
  },
  {
   "cell_type": "code",
   "execution_count": null,
   "metadata": {},
   "outputs": [],
   "source": [
    "from Tests import test\n",
    "\n",
    "#\n",
    "# A Game of Rock Paper Scissors!\n",
    "#\n",
    "\n",
    "@test(\"lesson4_test7\")\n",
    "def test_account_for_all_possibilities(your_choice, computer_choice): # don't change this line\n",
    "    # the illusion of free will... can you really change your choice?\n",
    "    # not in this game\n",
    "\n",
    "    # The variable `your_choice`     will only represent the `str` \"rock\" \"paper\" or \"scissors\"\n",
    "    # The variable `computer_choice` will only represent the `str` \"rock\" \"paper\" or \"scissors\"\n",
    "\n",
    "    you_have_won = False # don't change this line\n",
    "    game_tied = False # don't change this line\n",
    "\n",
    "    # use if / elif / else to account for all possible outcomes of rock paper scissors\n",
    "\n",
    "\n",
    "    return your_choice, computer_choice, game_tied, you_have_won # don't change this line\n",
    "\n"
   ]
  }
 ],
 "metadata": {
  "kernelspec": {
   "display_name": "Python 3",
   "language": "python",
   "name": "python3"
  },
  "language_info": {
   "codemirror_mode": {
    "name": "ipython",
    "version": 3
   },
   "file_extension": ".py",
   "mimetype": "text/x-python",
   "name": "python",
   "nbconvert_exporter": "python",
   "pygments_lexer": "ipython3",
   "version": "3.9.4"
  },
  "orig_nbformat": 4,
  "vscode": {
   "interpreter": {
    "hash": "8ef491b2f4bdd9f86d1fe857261c3ad57fb8c7c383c42819647643dc28bdd608"
   }
  }
 },
 "nbformat": 4,
 "nbformat_minor": 2
}
