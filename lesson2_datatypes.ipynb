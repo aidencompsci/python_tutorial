{
 "cells": [
  {
   "attachments": {},
   "cell_type": "markdown",
   "metadata": {},
   "source": [
    "# Data Types\n",
    "\n",
    "Programming at it's most fundamental level is about managing increasingly abstract levels of data. A programming language like Python lets you deal with things like `objects and things`, `words and text`, and `numbers`. \n",
    "\n",
    "The most common example of a 'Lower Level Language' is `Assembly`. This language doesn't deal so much with `types` of data, but rather deals with locations of data on the physical computer itself. Assembly itself is another abstraction on top of the `1's and 0's` of binary that computers read. The 1's and 0's are even *another* abstraction on top of physical elements inside the computer like `silicon` and `copper` and billions of billions of electrons wizzing around cables."
   ]
  },
  {
   "attachments": {},
   "cell_type": "markdown",
   "metadata": {},
   "source": [
    "## Types of Data\n",
    "\n",
    "There are many strange types of data in python, but for now...\n",
    "\n",
    "The most natural types of data are: <br/>\n",
    "\n",
    "`String`: basically written language. Think sentences, words, letters, etc. <br/>\n",
    "The 'string' type in python is shorthanded to `str`\n",
    ">\"this is how a string looks in python\"\n",
    "\n",
    "`Integer`: basically a `whole` number. 5, 2, 1, 7822156, 123456, etc, I could go on for a while <br/>\n",
    "The 'integer' type in python is shorthanded to `int`\n",
    "> 12345\n",
    "\n",
    "To represent a number that `is not` a whole number, `3.14` for example, you need to use what is called a <br/>\n",
    "`Float`: basically a `number` with a `decimal`. 3.14, 1.618, 2.5 <br/>\n",
    "The 'float' type in python is shorthanded to ... `float` ... wait that's not shorter... go figure I guess\n",
    "> 3.14 "
   ]
  },
  {
   "cell_type": "code",
   "execution_count": null,
   "metadata": {},
   "outputs": [],
   "source": [
    "# Integer\n",
    "print(\"   5 :\", 5)\n",
    "print(\"   5 :\", int(5))\n",
    "print(\" 5.1 :\", int(5.1))\n",
    "print(\"3.14 :\", int(3.14))"
   ]
  },
  {
   "attachments": {},
   "cell_type": "markdown",
   "metadata": {},
   "source": [
    "#### Run the above code!\n",
    "\n",
    "Because we told python that we wanted an `int` (Integer), even though we gave it a number that had a decimal, it printed out `only` the whole number part of the number we gave it. This is called `truncating`. There won't be a test on that, but just a fun fact."
   ]
  },
  {
   "cell_type": "code",
   "execution_count": null,
   "metadata": {},
   "outputs": [],
   "source": [
    "# We have actually been printing out \"strings\" this whole time!\n",
    "print(\"this is a string!\")"
   ]
  },
  {
   "attachments": {},
   "cell_type": "markdown",
   "metadata": {},
   "source": [
    "#### In Closing\n",
    "\n",
    "I want to introduce some new notation \n",
    "\n",
    "The code below imports a testing module that I wrote that can run tests on the code you write inside of the testing function to check if your code functions correctly. Don't worry if you didn't understand any of that! In time!\n",
    "\n",
    "All you need to do now is look at that code and try and understand it, run the cell, then read the instructions below it!"
   ]
  },
  {
   "cell_type": "code",
   "execution_count": null,
   "metadata": {},
   "outputs": [],
   "source": [
    "from Tests import test # don't edit this line\n",
    "\n",
    "@test(\"lesson2_test1\") # don't edit this line\n",
    "def test1_does_this_return_an_integer() -> int: # don't edit this line\n",
    "    # Note: for the code to work, it does need to be indented like this\n",
    "    # Edit Below!\n",
    "    return 5.0 # Feel free to edit this line!\n",
    "    # Edit Above!"
   ]
  },
  {
   "attachments": {},
   "cell_type": "markdown",
   "metadata": {},
   "source": [
    "#### The Answer?!\n",
    "\n",
    "the entire codeblock should look like this\n",
    "\n",
    "---\n",
    "\n",
    "``` py\n",
    "from Tests import test # don't edit this line\n",
    "\n",
    "@test(\"lesson2_test1\") # don't edit this line\n",
    "def test1_does_this_return_an_integer() -> int: # don't edit this line\n",
    "    # Note: for the code to work, it does need to be indented like this\n",
    "    # Edit Below!\n",
    "    return 5 # Feel free to edit this line!\n",
    "    # Edit Above!\n",
    "```\n",
    "\n",
    "---\n",
    "\n",
    "Notice... the only difference was the `5.0` -> `5`! <br/> \n",
    "such a subtle difference, but huge to python! <br/>\n",
    "Even though we can obviously tell that the intrinsic value of `5.0` is worth the same as `5` python sees one of them as type `Integer` and the other as type `Float`."
   ]
  }
 ],
 "metadata": {
  "kernelspec": {
   "display_name": "Python 3",
   "language": "python",
   "name": "python3"
  },
  "language_info": {
   "codemirror_mode": {
    "name": "ipython",
    "version": 3
   },
   "file_extension": ".py",
   "mimetype": "text/x-python",
   "name": "python",
   "nbconvert_exporter": "python",
   "pygments_lexer": "ipython3",
   "version": "3.9.4"
  },
  "orig_nbformat": 4,
  "vscode": {
   "interpreter": {
    "hash": "8ef491b2f4bdd9f86d1fe857261c3ad57fb8c7c383c42819647643dc28bdd608"
   }
  }
 },
 "nbformat": 4,
 "nbformat_minor": 2
}
