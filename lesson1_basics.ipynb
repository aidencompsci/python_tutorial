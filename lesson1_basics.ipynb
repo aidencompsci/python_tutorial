{
 "cells": [
  {
   "attachments": {},
   "cell_type": "markdown",
   "metadata": {},
   "source": [
    "## The First Step\n",
    "\n",
    "learning how to program is a duanting task that requires taking one step at a time. Understanding the fundamentals helps extend your knowledge above the fundamentals without overextending yourself.\n",
    "\n",
    "The most basic program in any language is generally referred to as the `Hello World Program`\n",
    "\n",
    "In python it looks like this:"
   ]
  },
  {
   "cell_type": "code",
   "execution_count": null,
   "metadata": {},
   "outputs": [],
   "source": [
    "print(\"Hello, World!\")"
   ]
  },
  {
   "attachments": {},
   "cell_type": "markdown",
   "metadata": {},
   "source": [
    "to run code in a cell you can mouse over to the left of the cell and click the `play arrow` and the result of executing the code will be output below the executed cell and above any cells after it. You can also run a cell by using some keyboard shortcuts, `control key + enter key` will execute the cell currently selected by your cursor and move your cursor automatically to the next one.\n",
    "\n",
    "`Try to run the code above`\n",
    "\n",
    "Now it's your turn. <br/>\n",
    "Write some code that prints out your name! <br/>\n",
    "(feel free to copy the code above and paste it below, then edit as you see fit) <br/>"
   ]
  },
  {
   "cell_type": "code",
   "execution_count": null,
   "metadata": {},
   "outputs": [],
   "source": []
  },
  {
   "attachments": {},
   "cell_type": "markdown",
   "metadata": {},
   "source": [
    "Some lines of code will look \"greyed out\" and might have a style that doesn't look like code. That would be because it's not technically code. A `Comment` is a line of code that starts with a symbol, most, if not every, programming language has a way to make comments in the code, but there are also many different symbols they use to do it. In python any line starting with the hashtag or pound (`#`) is a commented out line. \n",
    "\n",
    "You can use it to save code for later, but remember to remove it when you're done.\n",
    "\n",
    "You can also use it to add explanations or guidelines inside and around your code, like so:"
   ]
  },
  {
   "cell_type": "code",
   "execution_count": 1,
   "metadata": {},
   "outputs": [
    {
     "name": "stdout",
     "output_type": "stream",
     "text": [
      "FOUR\n"
     ]
    }
   ],
   "source": [
    "# This is a comment!\n",
    "# change this to print out \"FIVE\"\n",
    "print(\"FOUR\")"
   ]
  }
 ],
 "metadata": {
  "kernelspec": {
   "display_name": "Python 3",
   "language": "python",
   "name": "python3"
  },
  "language_info": {
   "codemirror_mode": {
    "name": "ipython",
    "version": 3
   },
   "file_extension": ".py",
   "mimetype": "text/x-python",
   "name": "python",
   "nbconvert_exporter": "python",
   "pygments_lexer": "ipython3",
   "version": "3.9.4"
  },
  "orig_nbformat": 4,
  "vscode": {
   "interpreter": {
    "hash": "8ef491b2f4bdd9f86d1fe857261c3ad57fb8c7c383c42819647643dc28bdd608"
   }
  }
 },
 "nbformat": 4,
 "nbformat_minor": 2
}
