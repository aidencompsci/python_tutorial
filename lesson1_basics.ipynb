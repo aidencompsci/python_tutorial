{
 "cells": [
  {
   "attachments": {},
   "cell_type": "markdown",
   "metadata": {},
   "source": [
    "## The First Step\n",
    "\n",
    "learning how to program is a duanting task that requires taking one step at a time. Understanding the fundamentals helps extend your knowledge above the fundamentals without overextending yourself"
   ]
  }
 ],
 "metadata": {
  "language_info": {
   "name": "python"
  },
  "orig_nbformat": 4
 },
 "nbformat": 4,
 "nbformat_minor": 2
}
