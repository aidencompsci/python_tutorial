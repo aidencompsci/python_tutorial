{
 "cells": [
  {
   "attachments": {},
   "cell_type": "markdown",
   "metadata": {},
   "source": [
    "--- -\n",
    "\n",
    "\n",
    "# Math Is .. Good?\n",
    "\n",
    "Math provides a good framework for talking about `variables`. What is a variable in math? I would define it casually as a symbol that `represents` a value.\n",
    "\n",
    "For example:\n",
    "\n",
    "$a^2+b^2=c^2$ <br/>\n",
    "$e=mc^2$\n",
    "\n",
    "\n",
    "Notice how I use the `variable` 'c' twice, but 'c' does not `represent` the same thing in both equations. In the first equation, 'c' represents the hypotenuse of a right triangle. The famous pythagoreas theorem.\n",
    "\n",
    "In the second equation 'c' represents the constant of the speed of light. \n",
    "\n",
    "The `scope` of a `variable` can change depending on where you use it."
   ]
  },
  {
   "cell_type": "code",
   "execution_count": null,
   "metadata": {},
   "outputs": [],
   "source": [
    "\n",
    "# mass in kilograms\n",
    "# 68kg = 150 pounds \n",
    "m = 68 #int\n",
    "\n",
    "# you can't use commas to separate numbers in python, but you can use an underscore character '_'\n",
    "# speed of light in meters per second\n",
    "c = 299_792_458 #int\n",
    "\n",
    "# python will think that two letters/variables side by side really means one longer variable,\n",
    "# meaning we must use the multiplication symbol.\n",
    "# python sees ** as ^ or 'to the power of' or 'squared' in the case of using a 2\n",
    "\n",
    "# energy in joules\n",
    "e = m * c**2 #result will be... ? float!\n",
    "\n",
    "# joules in one kilowatt-hour\n",
    "jTk = 0.00000027777777777777 #float\n",
    "\n",
    "# how many kilowatt-hours did the human produce?\n",
    "kWh = e * jTk #float\n",
    "print(kWh)\n",
    "\n",
    "# the '/' is the divide symbol in python, it divides the left number by the right number\n",
    "# a / b is read as \"a divided by b\"\n",
    "# one home uses about 11,000 kWh in a year on average\n",
    "h = kWh / 11_000 #float\n",
    "\n",
    "print(h)"
   ]
  },
  {
   "attachments": {},
   "cell_type": "markdown",
   "metadata": {},
   "source": [
    "## Insane!\n",
    "\n",
    "The human body, according to the most famous equation of all time, has enough mass, which if turned entirely to energy, could power the average american home for 154,331,697 MILLION YEARS.\n",
    "\n",
    "But back to the variables. We used a lot of variables in there! `m, c, e, jTk, kWh, and h`. Did it feel natural? Maybe not natural if you're not the biggest fan of math haha! Hopefully it didn't feel foreign though, the symbols `represent` values based on calculations by the computer... python, as my wife declares, is a glorified calculator!\n",
    "\n",
    "You may have also noticed that we did `operations` (just a fancy word for `some action on something else`) on data types that weren't the same type. We mixed `float` and `int` and the result was a `float`. This is expected behavior! Python can perform some `operations` with different data types... but not always...\n",
    "\n",
    "It's a bit confusing!"
   ]
  },
  {
   "cell_type": "code",
   "execution_count": null,
   "metadata": {},
   "outputs": [],
   "source": [
    "a = 5\n",
    "b = 10.0\n",
    "\n",
    "c = a + b #this gets turned into a float\n",
    "print(c)\n",
    "print(type(c))"
   ]
  },
  {
   "attachments": {},
   "cell_type": "markdown",
   "metadata": {},
   "source": [
    "Now it's your turn. \n",
    "\n",
    "write some code that has 3 variables (`x, y, and z`) that follows this equation\n",
    "\n",
    "$y = \\frac{x^2}{z}$"
   ]
  },
  {
   "cell_type": "code",
   "execution_count": 7,
   "metadata": {},
   "outputs": [],
   "source": [
    "# Your code here!\n"
   ]
  },
  {
   "attachments": {},
   "cell_type": "markdown",
   "metadata": {},
   "source": [
    "In math this equation makes perfect sense... but python seems to have a problem with it...\n",
    "\n",
    "The reason is because we haven't `set`, `declared`, `initialized`, or `some other big word` the `variables` that we are trying to use. Remember how a `variable` is actually just a `representation` of a value? Python doesn't know what in the world we are trying to represent! \n",
    "\n",
    "We need to `set` the value of the variable `before` we `use` the variable. In other words, the `variable` needs to `represent` something first!\n",
    "\n",
    "Modify the code above to `set` the variable `x equal to 4` and to `set` the variable `z equal to 2` "
   ]
  },
  {
   "cell_type": "code",
   "execution_count": null,
   "metadata": {},
   "outputs": [],
   "source": [
    "# If you have set the variables correctly you should now be able to run this code block\n",
    "# and get the answer of \"8.0\"!\n",
    "print(y)"
   ]
  },
  {
   "attachments": {},
   "cell_type": "markdown",
   "metadata": {},
   "source": [
    "### \"Wait a second!\"\n",
    "\n",
    "... You might be asking. The output looks like a `float`... but we didn't use a `float`? What gives? Python knows that multiplying two `whole numbers` together will always give you another `whole number`. Python also knows that `dividing` two whole numbers `does not always` result in a whole number. 1 is a whole number, and 2 is a whole number, but yet:\n",
    "\n",
    "$\\frac{1}{2} = 0.5$\n",
    "\n",
    "When using division in python your numbers will be automatically turned into `floats`"
   ]
  },
  {
   "attachments": {},
   "cell_type": "markdown",
   "metadata": {},
   "source": [
    "--- -\n",
    "\n",
    "# \"There are no strings on me\" \n",
    " to quote Ultron quoting Pinnochio\n",
    "\n",
    "\n",
    "`Strings` in python are very useful when dealing with text and user interaction and user generated content. This could be in the form of a warning message in a video game about a dangerous enemy, or asking the user for a password to enter a secure program.\n",
    "\n",
    "I think `strings` are inherently more natural than numbers because we speak and think in `strings`. It takes additional effort to express thoughts in the strict mannor that math requires. Programming is similar, it takes additional effort to express what you want the computer to do in a way that the computer understands"
   ]
  },
  {
   "attachments": {},
   "cell_type": "markdown",
   "metadata": {},
   "source": [
    "### String Manipulation!\n",
    "\n",
    "We can manipulate and operate on strings similar to how we do with numbers!\n",
    "\n",
    "Notice these variable names are not single letter or shorthand for math notation\n",
    "the variable name itself can be a description of what the data it `represents` actually is\n",
    "\n",
    "the variable name `name` might likely mean that it `represents` someone or something's name"
   ]
  },
  {
   "cell_type": "code",
   "execution_count": null,
   "metadata": {},
   "outputs": [],
   "source": [
    "\n",
    "name = \"john\"\n",
    "job = \"assistant to the regional manager\"\n",
    "greeting = \"hello\"\n",
    "comment = \"it looks like you are a(n)\"\n",
    "\n",
    "separation = \" \" # we want to breath in between what we're saying!\n",
    "\n",
    "#in python different 'words' inside a variable name are often separated by underscores, similar to how big numbers can be\n",
    "polite_introduction = greeting + separation + name + separation + comment + separation + job\n",
    "\n",
    "print(polite_introduction)"
   ]
  },
  {
   "attachments": {},
   "cell_type": "markdown",
   "metadata": {},
   "source": [
    "#### Test 1\n",
    "\n",
    "Last time I gave a test it was all new but I hope this time it is more familiar. \n",
    "\n",
    "Your challenge is to make the test pass by making `full_name` represent: `\"Ross, Bob\"` by only editing the first name and last name `variables`!"
   ]
  },
  {
   "cell_type": "code",
   "execution_count": null,
   "metadata": {},
   "outputs": [],
   "source": [
    "from Tests import test\n",
    "\n",
    "@test(\"lesson3_test1\")\n",
    "def test1_should_give_the_right_name():\n",
    "    first_name = \"\" #change this line!\n",
    "    last_name = \"\" #change this line!\n",
    "\n",
    "    full_name = last_name + \", \" + first_name # don't change this line\n",
    "    return full_name #don't change this line\n"
   ]
  },
  {
   "attachments": {},
   "cell_type": "markdown",
   "metadata": {},
   "source": [
    "### Unfortunately\n",
    "\n",
    "You can't do other `operations` with `strings` like division or multiplication* or subtraction but you can do `addition`. \n",
    "\n",
    "Python doesn't know what to do with the other operations because they aren't `defined`. You could go and code all the rules for python to know what to do but that's a lot of work and *I* don't want to do it either\n",
    "\n",
    "*well actually we can kinda do multiplication, you can multiply a `str` with an `int` to repeat the string. Try it out!"
   ]
  },
  {
   "attachments": {},
   "cell_type": "markdown",
   "metadata": {},
   "source": [
    "#### Test 2\n",
    "\n",
    "The test is looking for `final_answer` to be equal to `\"BobBobBob\"`"
   ]
  },
  {
   "cell_type": "code",
   "execution_count": null,
   "metadata": {},
   "outputs": [],
   "source": [
    "from Tests import test\n",
    "\n",
    "@test(\"lesson3_test2\")\n",
    "def test1_should_give_the_right_repitition():\n",
    "    name = \"\" #change this line!\n",
    "\n",
    "    final_answer = name * 3 # don't change this line\n",
    "    return final_answer #don't change this line"
   ]
  },
  {
   "attachments": {},
   "cell_type": "markdown",
   "metadata": {},
   "source": [
    "# Variables! ... It depends\n",
    "\n",
    "because `variables` can only `represent` something, the value that they are representing can `change`! This makes variables useful for computation... it lets us count for example! Or gather a shopping list for getting groceries!"
   ]
  },
  {
   "cell_type": "code",
   "execution_count": null,
   "metadata": {},
   "outputs": [],
   "source": [
    "x = 5     # 5\n",
    "x = x + 1 # 6\n",
    "x = x + 1 # 7\n",
    "x = x + 1 # 8\n",
    "print(x)"
   ]
  },
  {
   "cell_type": "code",
   "execution_count": null,
   "metadata": {},
   "outputs": [],
   "source": [
    "groceries = \"banana\"\n",
    "groceries = groceries + \" \" + \"orange\"\n",
    "groceries = groceries + \" \" + \"apple\"\n",
    "groceries = groceries + \" \" + \"popcorn\"\n",
    "groceries = groceries + \" \" + \"apple iphone max pro 10+\"\n",
    "\n",
    "print(groceries)"
   ]
  }
 ],
 "metadata": {
  "kernelspec": {
   "display_name": "Python 3",
   "language": "python",
   "name": "python3"
  },
  "language_info": {
   "codemirror_mode": {
    "name": "ipython",
    "version": 3
   },
   "file_extension": ".py",
   "mimetype": "text/x-python",
   "name": "python",
   "nbconvert_exporter": "python",
   "pygments_lexer": "ipython3",
   "version": "3.9.4"
  },
  "orig_nbformat": 4,
  "vscode": {
   "interpreter": {
    "hash": "8ef491b2f4bdd9f86d1fe857261c3ad57fb8c7c383c42819647643dc28bdd608"
   }
  }
 },
 "nbformat": 4,
 "nbformat_minor": 2
}
